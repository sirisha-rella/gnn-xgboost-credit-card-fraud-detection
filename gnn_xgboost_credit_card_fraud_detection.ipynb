{
 "cells": [
  {
   "cell_type": "markdown",
   "id": "41a07019-b48e-4ba7-9ceb-234515da80a2",
   "metadata": {},
   "source": [
    "# Credit Card Fraud Detection \n",
    "\n",
    "This gnn-xgboost-credit-card-fraud-detection folder contains notebooks for data preprocessing, a GNN-based XGBoost training model, and an inference notebook for the credit card fraud detection use case.\n",
    "\n",
    "Original source - https://github.com/nv-morpheus/morpheus-experimental/tree/branch-24.10/ai-credit-fraud-workflow\n"
   ]
  },
  {
   "cell_type": "markdown",
   "id": "3daa9025-9309-454d-aa14-bd094dbd908c",
   "metadata": {},
   "source": [
    "## Background\n",
    "\n",
    "Background \n",
    "Transaction fraud is expected to exceed [$43B by 2026](https://nilsonreport.com/articles/card-fraud-losses-worldwide/) and poses a significant challenge upon financial institutions to detect and prevent sophisticated fraudulent activities. Traditionally, financial institutions have relied upon rules based techniques which are reactive in nature and result in higher false positives and lower fraud detection accuracy. As data volumes and attacks have become more sophisticated, accelerated machine and graph learning techniques become mandatory and is a more proactive approach. AI for fraud detection uses multiple machine learning models to detect anomalies in customer behaviors and connections as well as patterns of accounts and behaviors that fit fraudulent characteristics.\n",
    "\n",
    "Traditional data science pipelines lack the necessary acceleration to handle the volumes of data involved in fraud detection, resulting in slower processing times, which limits real-time data analysis and detection of fraud. To efficiently manage large-scale datasets and deliver real-time performance for AI in production, financial institutions must shift from legacy infrastructure to accelerated computing.\n",
    "\n",
    "This Fraud Detection AI workflow offers enterprises an end-to-end solution using the NVIDIA accelerated computing platform for GPU-accelerated data processing and AI deployment, enabling real-time analysis and detection of credit card transaction fraudulent activities.\n"
   ]
  },
  {
   "cell_type": "markdown",
   "id": "c5e88382-ad34-45bf-a074-8c0813a2ccb8",
   "metadata": {},
   "source": [
    "## Key Features\n",
    "- Data Preprocessing – Clean, preprocess, and prepare the datasets required for training the GNN and XGBoost models.\n",
    "- Train GNN-based XGBoost Model – Train the GNN model to extract transaction node embeddings and use those embeddings to train the XGBoost model for classification.\n",
    "- Inference for GNN-based XGBoost Model with Triton – Deploy the trained models to the NVIDIA Triton Inference Server for scalable deployment in production."
   ]
  },
  {
   "attachments": {},
   "cell_type": "markdown",
   "id": "e50ffd67-25e7-4215-a6d7-39d2432c3526",
   "metadata": {},
   "source": [
    "## Architectural Diagram\n",
    "\n",
    "### Training Pipeline\n",
    "\n",
    "![training_pipeline](https://gitlab-master.nvidia.com/sdp/ps-service-packages/-/blob/credit-card-fraud-detection/rag-jumpstart-nim-cybersecurity/images/credit_fraud_training_pipeline.png)\n",
    "\n",
    "### Inference Pipeline\n",
    "\n",
    "![inference_pipeline](https://gitlab-master.nvidia.com/sdp/ps-service-packages/-/blob/credit-card-fraud-detection/rag-jumpstart-nim-cybersecurity/images/credit_fraud_inference_pipeline.png)\n"
   ]
  },
  {
   "cell_type": "markdown",
   "id": "9b7e1e4c-106c-4d81-b121-55ccad5a96c9",
   "metadata": {},
   "source": [
    "## Technology Stack:\n",
    "\n",
    "- [cuDF for data processing](https://github.com/rapidsai/cudf)\n",
    "    - cuDF is designed for data processing on a single GPU. If you want to scale, you can try Dask cuDF for distributed data processing.\n",
    "- [cuML for ML algorithms](https://github.com/rapidsai/cuml) \n",
    "- [cuGraph-pyg for graph analysis (creating graph, neighbor sampling)](https://github.com/rapidsai/cugraph)\n",
    "    - Sampling with cuGraphpyg is around 3X - 6X faster over state-of-the-art approaches\n",
    "- py-xgboost-gpu \n",
    "- [NVIDIA Triton Inference Server](https://github.com/triton-inference-server)\n",
    "    - Explore more configuration options for inference [here](https://docs.nvidia.com/deeplearning/triton-inference-server/user-guide/docs/user_guide/model_configuration.html#default-max-batch-size-and-dynamic-batcher) such as dynamic batching, ModelInstanceGroup to specify number of GPUs instances, ratelimiter for resource management. \n",
    "    - You can also create ensemble pipelines for more complex workflows.\n"
   ]
  },
  {
   "cell_type": "markdown",
   "id": "ea2d72b1-3567-41f5-8a84-d8def9ac3bdd",
   "metadata": {},
   "source": [
    "## How to Run the Use Case \n",
    "- Clone the repository (gnn-xgboost-credit-card-fraud-detection) and make sure that your shell or command prompt is pointing to gnn-xgboost-credit-fraud-workflow before running the following command \n",
    "    - ```mamba env create -f conda/fraud_conda_env.yaml```\n",
    "- After installing, activate the conda environment using the following command.\n",
    "    - ```conda activate fraud_conda_env```\n",
    "- Go to the notebooks folder, run ```jupyter notebook```, and start executing the notebooks (.ipynb files) in the following order, step by step:\n",
    "    - Data Preprocessing\n",
    "    - Train GNN-based XGBoost Model\n",
    "    - Inference for GNN-based XGBoost Model with Triton\n"
   ]
  },
  {
   "cell_type": "markdown",
   "id": "eb938c82-6f4c-42bc-8b8d-76b8cbedc3f5",
   "metadata": {},
   "source": [
    "## Upcoming Features:\n",
    "The NIM based GNN will be released early next year. \n"
   ]
  },
  {
   "cell_type": "markdown",
   "id": "2855761a-37d2-45c6-8b4e-d9f88c8f2446",
   "metadata": {},
   "source": [
    "## Projects\n",
    "\n",
    "- Explore the ai-credit-card-workflow and other cybersecurity related use cases in the morpheus-experimental repo [here](https://github.com/nv-morpheus/morpheus-experimental/tree/branch-25.02)\n",
    "- For more information on scaling data processing, check out [cuDF](https://github.com/rapidsai/cudf) and [Dask cuDF](https://docs.rapids.ai/api/dask-cudf/stable/)\n",
    "- To learn more about machine learning algorithms and GNNs, look into [cuML](https://github.com/rapidsai/cuml) and [cuGraph-GNN](https://github.com/rapidsai/cugraph-gnn), respectively\n",
    "- If you're aiming for high-throughput and low-latency inference deployments, explore the [NVIDIA Triton Inference Server](https://github.com/triton-inference-server) and adjust the configuration according to your use case in the inference notebook. "
   ]
  }
 ],
 "metadata": {
  "kernelspec": {
   "display_name": "Python 3 (ipykernel)",
   "language": "python",
   "name": "python3"
  },
  "language_info": {
   "codemirror_mode": {
    "name": "ipython",
    "version": 3
   },
   "file_extension": ".py",
   "mimetype": "text/x-python",
   "name": "python",
   "nbconvert_exporter": "python",
   "pygments_lexer": "ipython3",
   "version": "3.10.12"
  }
 },
 "nbformat": 4,
 "nbformat_minor": 5
}
